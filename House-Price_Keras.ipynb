{
  "cells": [
    {
      "cell_type": "code",
      "execution_count": 3,
      "id": "bbcde453-fbc3-4b80-a663-01212599fa9c",
      "metadata": {
        "id": "bbcde453-fbc3-4b80-a663-01212599fa9c"
      },
      "outputs": [],
      "source": [
        "import pandas as pd\n",
        "import numpy as np\n",
        "from sklearn.preprocessing import StandardScaler\n",
        "from sklearn.metrics import accuracy_score"
      ]
    },
    {
      "cell_type": "markdown",
      "id": "173476da-ac46-435c-81bb-858825c1908d",
      "metadata": {
        "id": "173476da-ac46-435c-81bb-858825c1908d"
      },
      "source": [
        "## Part 1: Import the Housing data and do feature transformations"
      ]
    },
    {
      "cell_type": "code",
      "execution_count": 4,
      "id": "999b20bb-ff06-47ce-9824-3431ade3d628",
      "metadata": {
        "id": "999b20bb-ff06-47ce-9824-3431ade3d628",
        "outputId": "71a65354-f6eb-47c5-a8c6-640ce957c505",
        "colab": {
          "base_uri": "https://localhost:8080/",
          "height": 206
        }
      },
      "outputs": [
        {
          "output_type": "execute_result",
          "data": {
            "text/plain": [
              "   bedrooms  sqft_living    price\n",
              "0         3         1340   313000\n",
              "1         5         3650  2384000\n",
              "2         3         1930   342000\n",
              "3         3         2000   420000\n",
              "4         4         1940   550000"
            ],
            "text/html": [
              "\n",
              "  <div id=\"df-9dead75d-d022-49ab-a8fc-8bc174bedd1e\">\n",
              "    <div class=\"colab-df-container\">\n",
              "      <div>\n",
              "<style scoped>\n",
              "    .dataframe tbody tr th:only-of-type {\n",
              "        vertical-align: middle;\n",
              "    }\n",
              "\n",
              "    .dataframe tbody tr th {\n",
              "        vertical-align: top;\n",
              "    }\n",
              "\n",
              "    .dataframe thead th {\n",
              "        text-align: right;\n",
              "    }\n",
              "</style>\n",
              "<table border=\"1\" class=\"dataframe\">\n",
              "  <thead>\n",
              "    <tr style=\"text-align: right;\">\n",
              "      <th></th>\n",
              "      <th>bedrooms</th>\n",
              "      <th>sqft_living</th>\n",
              "      <th>price</th>\n",
              "    </tr>\n",
              "  </thead>\n",
              "  <tbody>\n",
              "    <tr>\n",
              "      <th>0</th>\n",
              "      <td>3</td>\n",
              "      <td>1340</td>\n",
              "      <td>313000</td>\n",
              "    </tr>\n",
              "    <tr>\n",
              "      <th>1</th>\n",
              "      <td>5</td>\n",
              "      <td>3650</td>\n",
              "      <td>2384000</td>\n",
              "    </tr>\n",
              "    <tr>\n",
              "      <th>2</th>\n",
              "      <td>3</td>\n",
              "      <td>1930</td>\n",
              "      <td>342000</td>\n",
              "    </tr>\n",
              "    <tr>\n",
              "      <th>3</th>\n",
              "      <td>3</td>\n",
              "      <td>2000</td>\n",
              "      <td>420000</td>\n",
              "    </tr>\n",
              "    <tr>\n",
              "      <th>4</th>\n",
              "      <td>4</td>\n",
              "      <td>1940</td>\n",
              "      <td>550000</td>\n",
              "    </tr>\n",
              "  </tbody>\n",
              "</table>\n",
              "</div>\n",
              "      <button class=\"colab-df-convert\" onclick=\"convertToInteractive('df-9dead75d-d022-49ab-a8fc-8bc174bedd1e')\"\n",
              "              title=\"Convert this dataframe to an interactive table.\"\n",
              "              style=\"display:none;\">\n",
              "        \n",
              "  <svg xmlns=\"http://www.w3.org/2000/svg\" height=\"24px\"viewBox=\"0 0 24 24\"\n",
              "       width=\"24px\">\n",
              "    <path d=\"M0 0h24v24H0V0z\" fill=\"none\"/>\n",
              "    <path d=\"M18.56 5.44l.94 2.06.94-2.06 2.06-.94-2.06-.94-.94-2.06-.94 2.06-2.06.94zm-11 1L8.5 8.5l.94-2.06 2.06-.94-2.06-.94L8.5 2.5l-.94 2.06-2.06.94zm10 10l.94 2.06.94-2.06 2.06-.94-2.06-.94-.94-2.06-.94 2.06-2.06.94z\"/><path d=\"M17.41 7.96l-1.37-1.37c-.4-.4-.92-.59-1.43-.59-.52 0-1.04.2-1.43.59L10.3 9.45l-7.72 7.72c-.78.78-.78 2.05 0 2.83L4 21.41c.39.39.9.59 1.41.59.51 0 1.02-.2 1.41-.59l7.78-7.78 2.81-2.81c.8-.78.8-2.07 0-2.86zM5.41 20L4 18.59l7.72-7.72 1.47 1.35L5.41 20z\"/>\n",
              "  </svg>\n",
              "      </button>\n",
              "      \n",
              "  <style>\n",
              "    .colab-df-container {\n",
              "      display:flex;\n",
              "      flex-wrap:wrap;\n",
              "      gap: 12px;\n",
              "    }\n",
              "\n",
              "    .colab-df-convert {\n",
              "      background-color: #E8F0FE;\n",
              "      border: none;\n",
              "      border-radius: 50%;\n",
              "      cursor: pointer;\n",
              "      display: none;\n",
              "      fill: #1967D2;\n",
              "      height: 32px;\n",
              "      padding: 0 0 0 0;\n",
              "      width: 32px;\n",
              "    }\n",
              "\n",
              "    .colab-df-convert:hover {\n",
              "      background-color: #E2EBFA;\n",
              "      box-shadow: 0px 1px 2px rgba(60, 64, 67, 0.3), 0px 1px 3px 1px rgba(60, 64, 67, 0.15);\n",
              "      fill: #174EA6;\n",
              "    }\n",
              "\n",
              "    [theme=dark] .colab-df-convert {\n",
              "      background-color: #3B4455;\n",
              "      fill: #D2E3FC;\n",
              "    }\n",
              "\n",
              "    [theme=dark] .colab-df-convert:hover {\n",
              "      background-color: #434B5C;\n",
              "      box-shadow: 0px 1px 3px 1px rgba(0, 0, 0, 0.15);\n",
              "      filter: drop-shadow(0px 1px 2px rgba(0, 0, 0, 0.3));\n",
              "      fill: #FFFFFF;\n",
              "    }\n",
              "  </style>\n",
              "\n",
              "      <script>\n",
              "        const buttonEl =\n",
              "          document.querySelector('#df-9dead75d-d022-49ab-a8fc-8bc174bedd1e button.colab-df-convert');\n",
              "        buttonEl.style.display =\n",
              "          google.colab.kernel.accessAllowed ? 'block' : 'none';\n",
              "\n",
              "        async function convertToInteractive(key) {\n",
              "          const element = document.querySelector('#df-9dead75d-d022-49ab-a8fc-8bc174bedd1e');\n",
              "          const dataTable =\n",
              "            await google.colab.kernel.invokeFunction('convertToInteractive',\n",
              "                                                     [key], {});\n",
              "          if (!dataTable) return;\n",
              "\n",
              "          const docLinkHtml = 'Like what you see? Visit the ' +\n",
              "            '<a target=\"_blank\" href=https://colab.research.google.com/notebooks/data_table.ipynb>data table notebook</a>'\n",
              "            + ' to learn more about interactive tables.';\n",
              "          element.innerHTML = '';\n",
              "          dataTable['output_type'] = 'display_data';\n",
              "          await google.colab.output.renderOutput(dataTable, element);\n",
              "          const docLink = document.createElement('div');\n",
              "          docLink.innerHTML = docLinkHtml;\n",
              "          element.appendChild(docLink);\n",
              "        }\n",
              "      </script>\n",
              "    </div>\n",
              "  </div>\n",
              "  "
            ]
          },
          "metadata": {},
          "execution_count": 4
        }
      ],
      "source": [
        "df= pd.read_csv('https://raw.githubusercontent.com/ishankarve/NeuralNetworks/main/house_price_full_keras.csv')\n",
        "df.head()"
      ]
    },
    {
      "cell_type": "code",
      "execution_count": 5,
      "id": "9ac1d055-4622-4fc9-a2a3-d463bcf8befd",
      "metadata": {
        "id": "9ac1d055-4622-4fc9-a2a3-d463bcf8befd"
      },
      "outputs": [],
      "source": [
        "X = df.copy()\n",
        "# Remove target\n",
        "Y = X.pop('price')\n",
        "\n",
        "# perform a scaler transform of the input data\n",
        "scaler = StandardScaler()\n",
        "X = scaler.fit_transform(X)\n",
        "\n",
        "# perform log transformation of target variable (For Sandeep: Is this needed?)\n",
        "Y = np.log(Y)"
      ]
    },
    {
      "cell_type": "code",
      "execution_count": 6,
      "id": "82b4c4a9-00c6-42d5-aede-b01c0faeb61a",
      "metadata": {
        "id": "82b4c4a9-00c6-42d5-aede-b01c0faeb61a",
        "outputId": "2f7f65e0-6efe-47a3-cced-a89ade25759d",
        "colab": {
          "base_uri": "https://localhost:8080/",
          "height": 424
        }
      },
      "outputs": [
        {
          "output_type": "execute_result",
          "data": {
            "text/plain": [
              "            0         1\n",
              "0   -0.433198 -0.753258\n",
              "1    1.675735  1.457330\n",
              "2   -0.433198 -0.188649\n",
              "3   -0.433198 -0.121661\n",
              "4    0.621269 -0.179079\n",
              "..        ...       ...\n",
              "494  0.621269  0.873582\n",
              "495  1.675735  2.299459\n",
              "496 -0.433198 -0.724549\n",
              "497 -0.433198 -0.179079\n",
              "498 -0.433198 -1.040347\n",
              "\n",
              "[499 rows x 2 columns]"
            ],
            "text/html": [
              "\n",
              "  <div id=\"df-1d38382f-48f2-4783-9fff-c50d006491c1\">\n",
              "    <div class=\"colab-df-container\">\n",
              "      <div>\n",
              "<style scoped>\n",
              "    .dataframe tbody tr th:only-of-type {\n",
              "        vertical-align: middle;\n",
              "    }\n",
              "\n",
              "    .dataframe tbody tr th {\n",
              "        vertical-align: top;\n",
              "    }\n",
              "\n",
              "    .dataframe thead th {\n",
              "        text-align: right;\n",
              "    }\n",
              "</style>\n",
              "<table border=\"1\" class=\"dataframe\">\n",
              "  <thead>\n",
              "    <tr style=\"text-align: right;\">\n",
              "      <th></th>\n",
              "      <th>0</th>\n",
              "      <th>1</th>\n",
              "    </tr>\n",
              "  </thead>\n",
              "  <tbody>\n",
              "    <tr>\n",
              "      <th>0</th>\n",
              "      <td>-0.433198</td>\n",
              "      <td>-0.753258</td>\n",
              "    </tr>\n",
              "    <tr>\n",
              "      <th>1</th>\n",
              "      <td>1.675735</td>\n",
              "      <td>1.457330</td>\n",
              "    </tr>\n",
              "    <tr>\n",
              "      <th>2</th>\n",
              "      <td>-0.433198</td>\n",
              "      <td>-0.188649</td>\n",
              "    </tr>\n",
              "    <tr>\n",
              "      <th>3</th>\n",
              "      <td>-0.433198</td>\n",
              "      <td>-0.121661</td>\n",
              "    </tr>\n",
              "    <tr>\n",
              "      <th>4</th>\n",
              "      <td>0.621269</td>\n",
              "      <td>-0.179079</td>\n",
              "    </tr>\n",
              "    <tr>\n",
              "      <th>...</th>\n",
              "      <td>...</td>\n",
              "      <td>...</td>\n",
              "    </tr>\n",
              "    <tr>\n",
              "      <th>494</th>\n",
              "      <td>0.621269</td>\n",
              "      <td>0.873582</td>\n",
              "    </tr>\n",
              "    <tr>\n",
              "      <th>495</th>\n",
              "      <td>1.675735</td>\n",
              "      <td>2.299459</td>\n",
              "    </tr>\n",
              "    <tr>\n",
              "      <th>496</th>\n",
              "      <td>-0.433198</td>\n",
              "      <td>-0.724549</td>\n",
              "    </tr>\n",
              "    <tr>\n",
              "      <th>497</th>\n",
              "      <td>-0.433198</td>\n",
              "      <td>-0.179079</td>\n",
              "    </tr>\n",
              "    <tr>\n",
              "      <th>498</th>\n",
              "      <td>-0.433198</td>\n",
              "      <td>-1.040347</td>\n",
              "    </tr>\n",
              "  </tbody>\n",
              "</table>\n",
              "<p>499 rows × 2 columns</p>\n",
              "</div>\n",
              "      <button class=\"colab-df-convert\" onclick=\"convertToInteractive('df-1d38382f-48f2-4783-9fff-c50d006491c1')\"\n",
              "              title=\"Convert this dataframe to an interactive table.\"\n",
              "              style=\"display:none;\">\n",
              "        \n",
              "  <svg xmlns=\"http://www.w3.org/2000/svg\" height=\"24px\"viewBox=\"0 0 24 24\"\n",
              "       width=\"24px\">\n",
              "    <path d=\"M0 0h24v24H0V0z\" fill=\"none\"/>\n",
              "    <path d=\"M18.56 5.44l.94 2.06.94-2.06 2.06-.94-2.06-.94-.94-2.06-.94 2.06-2.06.94zm-11 1L8.5 8.5l.94-2.06 2.06-.94-2.06-.94L8.5 2.5l-.94 2.06-2.06.94zm10 10l.94 2.06.94-2.06 2.06-.94-2.06-.94-.94-2.06-.94 2.06-2.06.94z\"/><path d=\"M17.41 7.96l-1.37-1.37c-.4-.4-.92-.59-1.43-.59-.52 0-1.04.2-1.43.59L10.3 9.45l-7.72 7.72c-.78.78-.78 2.05 0 2.83L4 21.41c.39.39.9.59 1.41.59.51 0 1.02-.2 1.41-.59l7.78-7.78 2.81-2.81c.8-.78.8-2.07 0-2.86zM5.41 20L4 18.59l7.72-7.72 1.47 1.35L5.41 20z\"/>\n",
              "  </svg>\n",
              "      </button>\n",
              "      \n",
              "  <style>\n",
              "    .colab-df-container {\n",
              "      display:flex;\n",
              "      flex-wrap:wrap;\n",
              "      gap: 12px;\n",
              "    }\n",
              "\n",
              "    .colab-df-convert {\n",
              "      background-color: #E8F0FE;\n",
              "      border: none;\n",
              "      border-radius: 50%;\n",
              "      cursor: pointer;\n",
              "      display: none;\n",
              "      fill: #1967D2;\n",
              "      height: 32px;\n",
              "      padding: 0 0 0 0;\n",
              "      width: 32px;\n",
              "    }\n",
              "\n",
              "    .colab-df-convert:hover {\n",
              "      background-color: #E2EBFA;\n",
              "      box-shadow: 0px 1px 2px rgba(60, 64, 67, 0.3), 0px 1px 3px 1px rgba(60, 64, 67, 0.15);\n",
              "      fill: #174EA6;\n",
              "    }\n",
              "\n",
              "    [theme=dark] .colab-df-convert {\n",
              "      background-color: #3B4455;\n",
              "      fill: #D2E3FC;\n",
              "    }\n",
              "\n",
              "    [theme=dark] .colab-df-convert:hover {\n",
              "      background-color: #434B5C;\n",
              "      box-shadow: 0px 1px 3px 1px rgba(0, 0, 0, 0.15);\n",
              "      filter: drop-shadow(0px 1px 2px rgba(0, 0, 0, 0.3));\n",
              "      fill: #FFFFFF;\n",
              "    }\n",
              "  </style>\n",
              "\n",
              "      <script>\n",
              "        const buttonEl =\n",
              "          document.querySelector('#df-1d38382f-48f2-4783-9fff-c50d006491c1 button.colab-df-convert');\n",
              "        buttonEl.style.display =\n",
              "          google.colab.kernel.accessAllowed ? 'block' : 'none';\n",
              "\n",
              "        async function convertToInteractive(key) {\n",
              "          const element = document.querySelector('#df-1d38382f-48f2-4783-9fff-c50d006491c1');\n",
              "          const dataTable =\n",
              "            await google.colab.kernel.invokeFunction('convertToInteractive',\n",
              "                                                     [key], {});\n",
              "          if (!dataTable) return;\n",
              "\n",
              "          const docLinkHtml = 'Like what you see? Visit the ' +\n",
              "            '<a target=\"_blank\" href=https://colab.research.google.com/notebooks/data_table.ipynb>data table notebook</a>'\n",
              "            + ' to learn more about interactive tables.';\n",
              "          element.innerHTML = '';\n",
              "          dataTable['output_type'] = 'display_data';\n",
              "          await google.colab.output.renderOutput(dataTable, element);\n",
              "          const docLink = document.createElement('div');\n",
              "          docLink.innerHTML = docLinkHtml;\n",
              "          element.appendChild(docLink);\n",
              "        }\n",
              "      </script>\n",
              "    </div>\n",
              "  </div>\n",
              "  "
            ]
          },
          "metadata": {},
          "execution_count": 6
        }
      ],
      "source": [
        "df_scaled = pd.DataFrame(X)\n",
        "df_scaled"
      ]
    },
    {
      "cell_type": "code",
      "execution_count": 7,
      "id": "8034fbca-2081-4de3-9fd3-8e5d379b2cbf",
      "metadata": {
        "id": "8034fbca-2081-4de3-9fd3-8e5d379b2cbf",
        "outputId": "ca450313-8570-496e-c381-aeebbd9f13da",
        "colab": {
          "base_uri": "https://localhost:8080/"
        }
      },
      "outputs": [
        {
          "output_type": "execute_result",
          "data": {
            "text/plain": [
              "0      12.653958\n",
              "1      14.684290\n",
              "2      12.742566\n",
              "3      12.948010\n",
              "4      13.217674\n",
              "         ...    \n",
              "494    13.380102\n",
              "495    13.764217\n",
              "496    12.128111\n",
              "497    12.721886\n",
              "498    12.254863\n",
              "Name: price, Length: 499, dtype: float64"
            ]
          },
          "metadata": {},
          "execution_count": 7
        }
      ],
      "source": [
        "Y"
      ]
    },
    {
      "cell_type": "markdown",
      "id": "754adc57-4f6c-4b96-a348-77bd82a4b304",
      "metadata": {
        "id": "754adc57-4f6c-4b96-a348-77bd82a4b304"
      },
      "source": [
        "## Part 2: Create Model Using `keras`\n",
        "\n",
        "![](https://github.com/ishankarve/NeuralNetworks/blob/main/multiple_neurons.png?raw=1)"
      ]
    },
    {
      "cell_type": "code",
      "execution_count": 8,
      "id": "9e7e3de3-c446-4fbe-be67-08c1431450d5",
      "metadata": {
        "id": "9e7e3de3-c446-4fbe-be67-08c1431450d5"
      },
      "outputs": [],
      "source": [
        "from tensorflow import keras"
      ]
    },
    {
      "cell_type": "code",
      "execution_count": 9,
      "id": "7bf2231d-a13c-4e82-aae9-597b3caae6c0",
      "metadata": {
        "id": "7bf2231d-a13c-4e82-aae9-597b3caae6c0",
        "colab": {
          "base_uri": "https://localhost:8080/"
        },
        "outputId": "fe44b87f-a806-4394-9cad-88237da5f16f"
      },
      "outputs": [
        {
          "output_type": "stream",
          "name": "stdout",
          "text": [
            "Model: \"sequential\"\n",
            "_________________________________________________________________\n",
            " Layer (type)                Output Shape              Param #   \n",
            "=================================================================\n",
            " dense (Dense)               (None, 2)                 6         \n",
            "                                                                 \n",
            " dense_1 (Dense)             (None, 1)                 3         \n",
            "                                                                 \n",
            "=================================================================\n",
            "Total params: 9\n",
            "Trainable params: 9\n",
            "Non-trainable params: 0\n",
            "_________________________________________________________________\n"
          ]
        }
      ],
      "source": [
        "model = keras.Sequential(\n",
        "    [\n",
        "        keras.layers.Dense(\n",
        "            2, activation=\"sigmoid\", input_shape=(X.shape[-1],)\n",
        "        ),\n",
        "        keras.layers.Dense(1, activation=\"linear\")\n",
        "    ]\n",
        ")\n",
        "model.summary()"
      ]
    },
    {
      "cell_type": "markdown",
      "id": "304a97ac-488e-44cf-b86b-b6f44dc81d72",
      "metadata": {
        "id": "304a97ac-488e-44cf-b86b-b6f44dc81d72"
      },
      "source": [
        "```python\n",
        "def random_init_params():\n",
        "    w1 = tf.Variable(tf.random.uniform((2, 2)))\n",
        "    b1 = tf.Variable(tf.random.uniform((1, 2)))\n",
        "    w2 = tf.Variable(tf.random.uniform((2, 1)))\n",
        "    b2 = tf.Variable(tf.random.uniform((1, 1)))\n",
        "    return w1,b1,w2,b2\n",
        "\n",
        "\n",
        "def forward_prop(x, w1, b1, w2, b2):\n",
        "    z1 = tf.matmul(x,w1) + b1\n",
        "    h1 = tf.math.sigmoid(z1)\n",
        "    z2 = tf.matmul(h1,w2) + b2\n",
        "    h2 = z2\n",
        "    return h2\n",
        "```"
      ]
    },
    {
      "cell_type": "code",
      "execution_count": 10,
      "id": "867ac40d-01c2-4f93-8977-1a3a1b37b320",
      "metadata": {
        "id": "867ac40d-01c2-4f93-8977-1a3a1b37b320"
      },
      "outputs": [],
      "source": [
        "model.compile(\n",
        "    optimizer=keras.optimizers.SGD(), loss=\"mean_squared_error\"\n",
        ")"
      ]
    },
    {
      "cell_type": "markdown",
      "id": "78a51db7-4b84-4338-9745-ece25b503892",
      "metadata": {
        "id": "78a51db7-4b84-4338-9745-ece25b503892"
      },
      "source": [
        "```python\n",
        "def train(x, y, w1, b1, w2, b2):\n",
        "    y_true = y\n",
        "    with tf.GradientTape() as g:\n",
        "        y_pred = forward_prop(x, w1, b1, w2, b2)\n",
        "\n",
        "        # loss\n",
        "        loss = 0.5*(y_true - y_pred)** 2\n",
        "    \n",
        "    #Gradient calculation  \n",
        "    print(\"**************************************************\")\n",
        "    print(\"GRADIENTS\")\n",
        "    print(\"**************************************************\")\n",
        "    gw1, gb1, gw2, gb2 = g.gradient(loss, [w1, b1, w2, b2])\n",
        "    print(\" the gradient for 1st layer weights are:\\n\",gw1.numpy())\n",
        "    print(\"--------------------------------------------------\")\n",
        "    print(\" the gradient for 2nd layer weights are:\\n\",gw2.numpy())\n",
        "    print(\"--------------------------------------------------\")\n",
        "    print(\" the gradient for 1st layer bias are:\\n\",gb1.numpy())\n",
        "    print(\"--------------------------------------------------\")\n",
        "    print(\" the gradient for 2nd layer bias are:\\n\",gb2.numpy())\n",
        "    print(\"--------------------------------------------------\")\n",
        "\n",
        "    # Gradient descent:\n",
        "    lr=0.2\n",
        "    w1.assign_sub(lr*gw1)\n",
        "    b1.assign_sub(lr*gb1) \n",
        "    w2.assign_sub(lr*gw2)\n",
        "    b2.assign_sub(lr*gb2)\n",
        "    print(\"**************************************************\")\n",
        "    print(\"NEW UPDATES\")\n",
        "    print(\"**************************************************\")\n",
        "    print(\" the updated 1st layer weights are:\\n\",w1.numpy())\n",
        "    print(\"--------------------------------------------------\")\n",
        "    print(\" the updated 2nd layer weights are:\\n\",w2.numpy())\n",
        "    print(\"--------------------------------------------------\")\n",
        "    print(\" the updated 1st layer bias are:\\n\",b1.numpy())\n",
        "    print(\"--------------------------------------------------\")\n",
        "    print(\" the updated 2nd layer bias are:\\n\",b2.numpy())\n",
        "\n",
        "\n",
        "    return w1, b1, w2, b2,loss\n",
        "\n",
        "```"
      ]
    },
    {
      "cell_type": "code",
      "execution_count": 11,
      "id": "72ab0367-85da-46b9-bce9-4da2c72dfaa7",
      "metadata": {
        "id": "72ab0367-85da-46b9-bce9-4da2c72dfaa7",
        "outputId": "a911100e-9641-4162-801e-31b804017b9e",
        "colab": {
          "base_uri": "https://localhost:8080/"
        }
      },
      "outputs": [
        {
          "output_type": "stream",
          "name": "stdout",
          "text": [
            "Epoch 1/10\n",
            "16/16 [==============================] - 1s 1ms/step - loss: 101.2854\n",
            "Epoch 2/10\n",
            "16/16 [==============================] - 0s 2ms/step - loss: 26.8125\n",
            "Epoch 3/10\n",
            "16/16 [==============================] - 0s 2ms/step - loss: 6.4182\n",
            "Epoch 4/10\n",
            "16/16 [==============================] - 0s 2ms/step - loss: 1.8715\n",
            "Epoch 5/10\n",
            "16/16 [==============================] - 0s 2ms/step - loss: 0.9061\n",
            "Epoch 6/10\n",
            "16/16 [==============================] - 0s 2ms/step - loss: 0.6534\n",
            "Epoch 7/10\n",
            "16/16 [==============================] - 0s 2ms/step - loss: 0.5486\n",
            "Epoch 8/10\n",
            "16/16 [==============================] - 0s 2ms/step - loss: 0.4811\n",
            "Epoch 9/10\n",
            "16/16 [==============================] - 0s 2ms/step - loss: 0.4289\n",
            "Epoch 10/10\n",
            "16/16 [==============================] - 0s 2ms/step - loss: 0.3878\n"
          ]
        },
        {
          "output_type": "execute_result",
          "data": {
            "text/plain": [
              "<keras.callbacks.History at 0x7f7f68affe10>"
            ]
          },
          "metadata": {},
          "execution_count": 11
        }
      ],
      "source": [
        "model.fit(X,Y.values,epochs=10,batch_size=32)"
      ]
    },
    {
      "cell_type": "code",
      "execution_count": 12,
      "id": "ac6189a0-f5a7-48e3-9bbd-03f219c6ab2c",
      "metadata": {
        "id": "ac6189a0-f5a7-48e3-9bbd-03f219c6ab2c",
        "outputId": "6b636803-a952-4cd6-9cf4-7d06046cd7e6",
        "colab": {
          "base_uri": "https://localhost:8080/"
        }
      },
      "outputs": [
        {
          "output_type": "execute_result",
          "data": {
            "text/plain": [
              "array([13.225859 , 12.667591 , 13.197348 , 13.193745 , 13.113943 ,\n",
              "       12.892164 , 12.895981 , 13.042366 , 13.170589 , 13.151875 ,\n",
              "       13.208368 , 13.022486 , 13.176129 , 13.236931 , 12.734411 ,\n",
              "       13.232133 , 13.215141 , 13.004396 , 13.224489 , 13.233014 ,\n",
              "       13.181036 , 13.158105 , 13.2064   , 13.040478 , 13.144719 ,\n",
              "       13.189043 , 13.174477 , 13.09004  , 12.742765 , 13.160955 ,\n",
              "       13.148301 , 13.028177 , 13.124872 , 13.031968 , 12.954526 ,\n",
              "       13.122307 , 12.891342 , 13.201408 , 13.195809 , 13.172816 ,\n",
              "       13.2146635, 13.155437 , 12.891861 , 13.205409 , 12.895028 ,\n",
              "       13.2338915, 13.195294 , 13.197348 , 13.229019 , 12.98527  ,\n",
              "       13.042366 , 13.1427   , 13.154578 , 13.203916 , 12.80052  ,\n",
              "       13.11577  , 13.090965 , 12.666712 , 13.226767 , 12.897406 ,\n",
              "       12.98527  , 13.156328 , 13.040478 , 13.164386 , 13.022486 ,\n",
              "       12.892362 , 13.211294 , 13.240348 , 12.896798 , 13.183191 ,\n",
              "       13.059299 , 13.146302 , 13.082626 , 13.198877 , 13.226313 ,\n",
              "       12.895456 , 13.0928135, 13.040478 , 13.097426 , 13.167219 ,\n",
              "       13.10937  , 12.948748 , 12.897438 , 13.203916 , 13.077049 ,\n",
              "       12.898316 , 12.894493 , 13.219396 , 12.896339 , 12.894955 ,\n",
              "       12.709637 , 13.185332 , 12.462065 , 13.175029 , 13.215617 ,\n",
              "       12.750228 , 13.209835 , 12.717847 , 13.222651 , 12.636387 ,\n",
              "       12.997711 , 13.193226 , 13.226313 , 13.074255 , 12.8364105,\n",
              "       13.023435 , 13.10203  , 12.886037 , 12.891759 , 13.176632 ,\n",
              "       13.1634245, 13.07984  , 13.238647 , 12.768093 , 13.107538 ,\n",
              "       12.907692 , 13.181576 , 12.891447 , 12.708727 , 13.210323 ,\n",
              "       13.111201 , 13.220796 , 12.117866 , 13.199893 , 13.199893 ,\n",
              "       13.222651 , 13.155437 , 12.894493 , 13.197859 , 13.023435 ,\n",
              "       13.122307 , 13.216093 , 12.815968 , 12.898247 , 12.897873 ,\n",
              "       13.080769 , 13.203916 , 13.107538 , 13.204414 , 13.067723 ,\n",
              "       13.1968355, 12.8946495, 12.976639 , 12.878323 , 13.215094 ,\n",
              "       13.212744 , 13.222743 , 13.134783 , 12.596224 , 12.897241 ,\n",
              "       13.06679  , 13.158993 , 12.89417  , 13.225403 , 13.09466  ,\n",
              "       13.218926 , 13.193745 , 12.893573 , 12.890469 , 12.818878 ,\n",
              "       13.2146635, 13.098349 , 13.171364 , 13.212261 , 12.979517 ,\n",
              "       13.1185055, 13.151875 , 12.892362 , 13.238647 , 13.229467 ,\n",
              "       12.427851 , 13.081697 , 13.032915 , 13.211294 , 13.211779 ,\n",
              "       13.201408 , 13.108455 , 13.222651 , 13.153657 , 13.168908 ,\n",
              "       13.240348 , 12.895174 , 13.077887 , 12.797636 , 13.06679  ,\n",
              "       13.00535  , 13.102949 , 13.201408 , 13.1230545, 12.94393  ,\n",
              "       13.222188 , 13.217986 , 13.186928 , 12.967994 , 13.212261 ,\n",
              "       13.204414 , 13.108455 , 13.084482 , 13.012024 , 13.227219 ,\n",
              "       12.930429 , 12.942001 , 12.722429 , 12.734411 , 13.139065 ,\n",
              "       12.897518 , 12.9958   , 13.045196 , 13.230804 , 13.039534 ,\n",
              "       12.978558 , 13.236067 , 12.840324 , 13.198877 , 12.892653 ,\n",
              "       13.209347 , 13.222188 , 12.594588 , 13.194778 , 12.894728 ,\n",
              "       13.183191 , 13.249023 , 13.219396 , 12.736263 , 13.155746 ,\n",
              "       12.960397 , 13.229019 , 12.596224 , 13.01107  , 13.233454 ,\n",
              "       12.814999 , 13.241192 , 13.068659 , 12.874467 , 13.229914 ,\n",
              "       13.216567 , 13.213705 , 13.236067 , 13.201912 , 13.165522 ,\n",
              "       13.156328 , 12.137245 , 13.070526 , 13.133924 , 13.190094 ,\n",
              "       13.205904 , 13.209835 , 12.897064 , 13.063309 , 13.123964 ,\n",
              "       13.223111 , 13.200399 , 12.194822 , 12.8936615, 13.153994 ,\n",
              "       13.240348 , 13.2146635, 13.052727 , 13.197859 , 13.175029 ,\n",
              "       12.103325 , 13.0611725, 13.122307 , 13.168908 , 12.893396 ,\n",
              "       12.891552 , 12.780425 , 13.205409 , 12.895981 , 13.195809 ,\n",
              "       12.985748 , 12.897398 , 12.626188 , 13.07984  , 13.14023  ,\n",
              "       13.048022 , 13.1185055, 13.183727 , 13.192184 , 13.179409 ,\n",
              "       13.213224 , 12.890911 , 12.897444 , 13.212261 , 12.422488 ,\n",
              "       13.139673 , 13.1968355, 13.222651 , 13.239074 , 12.891552 ,\n",
              "       12.89246  , 12.258646 , 13.091888 , 13.213705 , 13.218456 ,\n",
              "       13.225859 , 13.200905 , 13.164386 , 12.8936615, 13.224031 ,\n",
              "       13.211779 , 12.726105 , 13.095583 , 13.205904 , 13.21081  ,\n",
              "       13.202415 , 13.089115 , 13.154547 , 13.229467 , 12.614421 ,\n",
              "       12.928499 , 12.894572 , 13.047457 , 12.781377 , 13.213417 ,\n",
              "       12.891552 , 12.897018 , 13.189043 , 12.711456 , 13.13302  ,\n",
              "       13.210323 , 13.057423 , 12.722429 , 13.229914 , 13.106621 ,\n",
              "       13.047081 , 12.893123 , 13.195809 , 12.890469 , 12.896042 ,\n",
              "       12.898105 , 13.096504 , 13.125779 , 12.898267 , 13.209347 ,\n",
              "       13.1968355, 13.07891  , 13.102949 , 12.975678 , 13.085409 ,\n",
              "       13.223572 , 12.893833 , 13.218926 , 13.063982 , 12.778522 ,\n",
              "       13.181036 , 13.197859 , 13.199386 , 13.085409 , 12.895456 ,\n",
              "       12.892937 , 12.9871855, 13.108455 , 12.893484 , 13.1230545,\n",
              "       13.194778 , 12.425459 , 12.895174 , 13.082626 , 13.170589 ,\n",
              "       13.1420965, 13.082626 , 13.217986 , 13.24287  , 13.232574 ,\n",
              "       13.227219 , 12.744628 , 13.2064   , 13.226767 , 13.065854 ,\n",
              "       13.23036  , 13.229467 , 12.468554 , 12.936216 , 13.216567 ,\n",
              "       12.897064 , 13.22033  , 13.223572 , 13.158649 , 13.214186 ,\n",
              "       13.116682 , 13.192966 , 13.222651 , 12.894252 , 12.891963 ,\n",
              "       13.177226 , 12.893484 , 12.893123 , 12.896649 , 13.211779 ,\n",
              "       12.9371805, 13.034807 , 13.131214 , 13.15988  , 13.201408 ,\n",
              "       12.892937 , 13.167784 , 12.9429655, 13.052727 , 13.223572 ,\n",
              "       13.084482 , 13.0649185, 12.891447 , 13.14023  , 13.137236 ,\n",
              "       12.890469 , 13.223572 , 13.221028 , 12.898045 , 13.188516 ,\n",
              "       13.238219 , 13.218456 , 13.111201 , 13.222651 , 12.945857 ,\n",
              "       13.090965 , 13.197859 , 13.2338915, 12.741356 , 13.108455 ,\n",
              "       13.093459 , 12.682634 , 13.030074 , 12.894572 , 13.00535  ,\n",
              "       13.222188 , 13.068659 , 13.114857 , 13.21081  , 13.223111 ,\n",
              "       13.047081 , 13.108455 , 13.096504 , 13.225311 , 13.2064   ,\n",
              "       12.7899685, 12.896397 , 13.113943 , 13.222651 , 13.224947 ,\n",
              "       13.231249 , 13.031021 , 12.940073 , 13.07798  , 13.101613 ,\n",
              "       13.156327 , 13.009165 , 13.2395   , 13.114857 , 13.204912 ,\n",
              "       13.193745 , 13.209347 , 12.540794 , 13.227671 , 13.071458 ,\n",
              "       12.894572 , 13.07984  , 13.040478 , 13.030074 , 12.893484 ,\n",
              "       13.225859 , 12.963186 , 12.399464 , 13.240854 , 12.720594 ,\n",
              "       13.186928 , 13.060236 , 13.113943 , 13.225403 , 13.093737 ,\n",
              "       13.224489 , 12.782656 , 13.031021 , 13.193226 , 12.986227 ,\n",
              "       12.895174 , 13.207878 , 12.088474 , 13.215617 , 13.163246 ,\n",
              "       12.851366 , 12.895102 , 12.667591 , 13.184797 , 13.058361 ,\n",
              "       12.89246  , 13.016783 , 13.097426 , 12.970877 , 12.774723 ,\n",
              "       13.183191 , 13.13302  , 13.1420965, 13.241192 , 13.01107  ,\n",
              "       12.592955 , 13.224489 , 13.1968355, 13.239074 ], dtype=float32)"
            ]
          },
          "metadata": {},
          "execution_count": 12
        }
      ],
      "source": [
        "model.predict(X)[:,0]"
      ]
    },
    {
      "cell_type": "code",
      "execution_count": 12,
      "id": "e70387c2-c04d-4ff1-8bc1-a13a064daf6a",
      "metadata": {
        "id": "e70387c2-c04d-4ff1-8bc1-a13a064daf6a"
      },
      "outputs": [],
      "source": [
        ""
      ]
    }
  ],
  "metadata": {
    "kernelspec": {
      "display_name": "Python 3 (ipykernel)",
      "language": "python",
      "name": "python3"
    },
    "language_info": {
      "codemirror_mode": {
        "name": "ipython",
        "version": 3
      },
      "file_extension": ".py",
      "mimetype": "text/x-python",
      "name": "python",
      "nbconvert_exporter": "python",
      "pygments_lexer": "ipython3",
      "version": "3.9.9"
    },
    "colab": {
      "name": "nn_keras.ipynb",
      "provenance": []
    }
  },
  "nbformat": 4,
  "nbformat_minor": 5
}